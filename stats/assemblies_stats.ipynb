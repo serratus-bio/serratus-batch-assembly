{
 "cells": [
  {
   "cell_type": "code",
   "execution_count": 9,
   "metadata": {},
   "outputs": [
    {
     "ename": "SyntaxError",
     "evalue": "invalid syntax (<ipython-input-9-6af37266e80e>, line 1)",
     "output_type": "error",
     "traceback": [
      "\u001b[0;36m  File \u001b[0;32m\"<ipython-input-9-6af37266e80e>\"\u001b[0;36m, line \u001b[0;32m1\u001b[0m\n\u001b[0;31m    pip install pyfasta seaborn\u001b[0m\n\u001b[0m              ^\u001b[0m\n\u001b[0;31mSyntaxError\u001b[0m\u001b[0;31m:\u001b[0m invalid syntax\n"
     ]
    }
   ],
   "source": [
    "pip install pyfasta seaborn pandas"
   ]
  },
  {
   "cell_type": "code",
   "execution_count": 45,
   "metadata": {},
   "outputs": [],
   "source": [
    "from pyfasta import Fasta\n",
    "import seaborn as sns\n",
    "import pandas as pd\n",
    "import matplotlib.pylab as plt"
   ]
  },
  {
   "cell_type": "code",
   "execution_count": 46,
   "metadata": {},
   "outputs": [
    {
     "name": "stdout",
     "output_type": "stream",
     "text": [
      "0 minia 0 cs.gc 18544 cs.gc.cv assemblies\n"
     ]
    },
    {
     "data": {
      "image/png": "[encoded data removed]",
      "text/plain": [
       "<Figure size 432x288 with 1 Axes>"
      ]
     },
     "metadata": {},
     "output_type": "display_data"
    }
   ],
   "source": [
    "import glob\n",
    "import os\n",
    "\n",
    "\n",
    "assemblies = glob.glob(\"/home/rayan/serratus-assemblies/*.fa\")\n",
    "minia, coronaspades, coronaspades_gc, coronaspades_gc_cv = [], [], [], []\n",
    "for assembly in assemblies:\n",
    "    assembly = assembly\n",
    "    if \"coronaspades.checkv_filtered\" in assembly:\n",
    "        coronaspades += [assembly]\n",
    "    elif \"minia.checkv_filtered\" in assembly:\n",
    "        minia += [assembly]\n",
    "    elif \"coronaspades.gene_clusters.fa\" in assembly:\n",
    "        coronaspades_gc += [assembly]\n",
    "    elif \"coronaspades.gene_clusters.checkv_filtered.fa\" in assembly:\n",
    "        coronaspades_gc_cv += [assembly]\n",
    "\n",
    "# focusing on gc_cv\n",
    "minia, coronaspades_gc = [],[]\n",
    "\n",
    "print(len(minia),\"minia\",len(coronaspades_gc),\"cs.gc\",len(coronaspades_gc_cv),\"cs.gc.cv assemblies\")\n",
    "\n",
    "data_to_insert = []\n",
    "for assemblies,assembler in [\n",
    "                             #(minia,'miniak31.cv'),\n",
    "                             #(coronaspades,'coronaspades.cv'),\n",
    "                             #(coronaspades_gc,'coronaspades.gc')\n",
    "                             (coronaspades_gc_cv,'coronaspades.gc.cv'),\n",
    "                            ]:\n",
    "    for assembly in assemblies:\n",
    "        if os.stat(assembly).st_size == 0:\n",
    "            nb_contigs = 0\n",
    "            total_length = 0\n",
    "        else:\n",
    "            f = Fasta(assembly)\n",
    "            nb_contigs = len(f.keys())\n",
    "            total_length = sum([len(f[key]) for key in f.keys()])\n",
    "        category = 'D'\n",
    "        if   total_length > 25000  and nb_contigs == 1:\n",
    "            category = 'A'\n",
    "        elif total_length > 25000  and nb_contigs > 1:\n",
    "            category = 'B'\n",
    "        elif total_length > 5000 and total_length <= 25000:\n",
    "            category = 'C'\n",
    "        elif nb_contigs == 0:\n",
    "            category = 'E'\n",
    "        data_to_insert += [(assembly.replace('/home/rayan/serratus-assemblies/',''), \n",
    "                            assembler, nb_contigs, total_length, category)]\n",
    "        \n",
    "data = pd.DataFrame(data_to_insert, columns=['Assembly', 'Assembler', 'NbContigs', 'TotalLength', 'Category'])\n",
    "\n",
    "sns.set(style=\"whitegrid\")\n",
    "#sns.distplot(data[data['Assembler'] == 'miniak31.cv']['NbContigs'], kde=False, rug=True, label=\"miniak31.cv\");\n",
    "#sns.distplot(data[data['Assembler'] == 'coronaspades.cv']['NbContigs'], kde=False, rug=True, label=\"coronaspades.cv\");\n",
    "#sns.distplot(data[data['Assembler'] == 'coronaspades.gc']['NbContigs'], kde=False, label=\"coronaspades.gc\");\n",
    "sns.distplot(data[data['Assembler'] == 'coronaspades.gc.cv']['NbContigs'], kde=False, label=\"coronaspades.gc.cv\");\n",
    "plt.legend()\n",
    "\n",
    "data.to_csv('data.csv')\n",
    "\n"
   ]
  },
  {
   "cell_type": "code",
   "execution_count": 47,
   "metadata": {},
   "outputs": [
    {
     "data": {
      "image/png": "[encoded data removed]",
      "text/plain": [
       "<Figure size 508.975x360 with 1 Axes>"
      ]
     },
     "metadata": {},
     "output_type": "display_data"
    }
   ],
   "source": [
    "sns.catplot(x=\"Category\", kind=\"count\", order=('A','B','C','D','E'), data=data, hue='Assembler');"
   ]
  },
  {
   "cell_type": "code",
   "execution_count": 59,
   "metadata": {},
   "outputs": [
    {
     "name": "stdout",
     "output_type": "stream",
     "text": [
      "2643 catA saved\n",
      "1773 catB saved\n",
      "2289 catC saved\n"
     ]
    }
   ],
   "source": [
    "version = 3\n",
    "def produce_cat(category):\n",
    "    cat_gc_cv = list(map(lambda x: 's3://serratus-public/assemblies/contigs/' + x, \n",
    "             list(data[\n",
    "                 (data['Assembler'] == 'coronaspades.gc.cv') \n",
    "                 & \n",
    "                 (data['Category'] == category) ]['Assembly'])))\n",
    "    f = open(\"cat%s-v%d.txt\" % (category,version),\"w\")\n",
    "    print(len(cat_gc_cv),\"cat%s saved\"%category)\n",
    "    for l in cat_gc_cv:\n",
    "        f.write(l+\"\\n\")\n",
    "    f.close()\n",
    "    f = open(\"cat%s-v%d.accessions.txt\" % (category,version),\"w\")\n",
    "    for l in cat_gc_cv:\n",
    "        f.write(l.replace('s3://serratus-public/assemblies/contigs/','')\n",
    "                .replace('.coronaspades.gene_clusters.checkv_filtered.fa','')\n",
    "                +\"\\n\")\n",
    "    f.close()\n",
    "    f = open(\"cat%s-v%d.fa\" % (category,version),\"w\")\n",
    "    for l in cat_gc_cv:\n",
    "        filename = l.replace('s3://serratus-public/assemblies/contigs/','')\n",
    "        g = Fasta(\"/home/rayan/serratus-assemblies/\" + filename)\n",
    "        for key in g.keys():\n",
    "            contig = g[key]\n",
    "            accession = filename.replace('.coronaspades.gene_clusters.checkv_filtered.fa','')\n",
    "            f.write(\">%s\\n\" % (str(key)))\n",
    "            f.write(str(contig) + \"\\n\")\n",
    "    f.close()\n",
    "for category in ['A','B','C']:\n",
    "    produce_cat(category)"
   ]
  },
  {
   "cell_type": "code",
   "execution_count": null,
   "metadata": {},
   "outputs": [],
   "source": []
  },
  {
   "cell_type": "code",
   "execution_count": null,
   "metadata": {},
   "outputs": [],
   "source": []
  },
  {
   "cell_type": "code",
   "execution_count": null,
   "metadata": {},
   "outputs": [],
   "source": []
  }
 ],
 "metadata": {
  "kernelspec": {
   "display_name": "Python 3.6.9 64-bit",
   "language": "python",
   "name": "python36964bitab93dad244dc40a2b7664488db277cd7"
  },
  "language_info": {
   "codemirror_mode": {
    "name": "ipython",
    "version": 3
   },
   "file_extension": ".py",
   "mimetype": "text/x-python",
   "name": "python",
   "nbconvert_exporter": "python",
   "pygments_lexer": "ipython3",
   "version": "3.6.9"
  }
 },
 "nbformat": 4,
 "nbformat_minor": 4
}
